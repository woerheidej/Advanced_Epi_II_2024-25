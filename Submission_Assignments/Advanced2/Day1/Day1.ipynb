{
 "cells": [
  {
   "cell_type": "markdown",
   "id": "83c3c567914bf017",
   "metadata": {},
   "source": [
    "## Exercise: Writing functions\n",
    "In the following, you will write three functions in which you integrate the previously learned content."
   ]
  },
  {
   "cell_type": "markdown",
   "id": "2dea4c09a812a91b",
   "metadata": {},
   "source": [
    "### Function 1: Beergarden capacity\n",
    "\n",
    "Write a function `beer_garden_capacity(guests, tables)` that calculates whether there are enough seats in a beer garden.\n",
    "\n",
    "Each table has 8 seats.\n",
    "The function should return:\n",
    "- `“There are enough tables!”` → if there is enough space.\n",
    "- `“Not enough tables, find another beer garden!”` → if there are more guests than seats."
   ]
  },
  {
   "cell_type": "code",
   "id": "6d0e85b58d23536f",
   "metadata": {
    "ExecuteTime": {
     "end_time": "2025-04-03T09:22:38.235746Z",
     "start_time": "2025-04-03T09:22:38.225724Z"
    }
   },
   "source": [
    "def beer_garden_capacity(guests, tables):\n",
    "    seats = tables * 8\n",
    "    if(guests <= seats):\n",
    "        return(\"There are enough tables\")\n",
    "    elif(guests > seats):\n",
    "        return(\"Not enough tables, find another beer garden!\")"
   ],
   "outputs": [],
   "execution_count": 1
  },
  {
   "cell_type": "code",
   "id": "4c8d83ff20a41334",
   "metadata": {
    "ExecuteTime": {
     "end_time": "2025-04-03T09:22:38.268136Z",
     "start_time": "2025-04-03T09:22:38.260606Z"
    }
   },
   "source": [
    "# Example calls\n",
    "print(beer_garden_capacity(40, 6))  # \"There are enough tables!\"\n",
    "print(beer_garden_capacity(50, 5))  # \"Not enough tables, find another beer garden!\""
   ],
   "outputs": [
    {
     "name": "stdout",
     "output_type": "stream",
     "text": [
      "There are enough tables\n",
      "Not enough tables, find another beer garden!\n"
     ]
    }
   ],
   "execution_count": 2
  },
  {
   "cell_type": "markdown",
   "id": "a710041a520f2564",
   "metadata": {},
   "source": [
    "### Function 2: Isar swimming warning\n",
    "Write a function `isar_swimming_warning(temp, flow_rate)` that outputs a warning whether the Isar is too dangerous for swimmers.\n",
    "\n",
    "- If the water temperature is below 15°C, the function should return `“Warning: The Isar is too cold! ❄️”` should be returned.\n",
    "- If the flow velocity is above 300 m³/s, the function `“Warning: The current is too strong! 🌊”` should be returned.\n",
    "- If both apply, the function `“Danger! The Isar is too cold and too strong! ⚠️”`.\n",
    "- If everything is fine, it returns `“Safe to swim! Enjoy the Isar! 🏊‍♂️”`."
   ]
  },
  {
   "cell_type": "code",
   "id": "d36359a841e3ad73",
   "metadata": {
    "ExecuteTime": {
     "end_time": "2025-04-03T09:22:38.796390Z",
     "start_time": "2025-04-03T09:22:38.787876Z"
    }
   },
   "source": [
    "def isar_swimming_warning(temp, flow_rate):\n",
    "\n",
    "    if (temp < 15 and flow_rate <= 300):\n",
    "        return(\"Warning: The Isar is too cold! ❄️\")\n",
    "    elif (flow_rate > 300 and temp >= 15):\n",
    "        return(\"Warning: The current is too strong! 🌊\")\n",
    "    elif(flow_rate > 300 and temp < 15):\n",
    "        return(\"Danger! The Isar is too cold and too strong! ⚠️\")\n",
    "    else: return(\"Safe to swim! Enjoy the Isar! 🏊‍♂️\")\n",
    "        \n",
    "    "
   ],
   "outputs": [],
   "execution_count": 3
  },
  {
   "cell_type": "code",
   "id": "b57cfa5a00c137ca",
   "metadata": {
    "ExecuteTime": {
     "end_time": "2025-04-03T09:22:38.907299Z",
     "start_time": "2025-04-03T09:22:38.889127Z"
    }
   },
   "source": [
    "print(isar_swimming_warning(14, 250))  # \"Warning: The Isar is too cold! ❄️\"\n",
    "print(isar_swimming_warning(16, 320))  # \"Warning: The current is too strong! 🌊\"\n",
    "print(isar_swimming_warning(12, 350))  # \"Danger! The Isar is too cold and too strong! ⚠️\"\n",
    "print(isar_swimming_warning(18, 280))  # \"Safe to swim! Enjoy the Isar! 🏊‍♂️\""
   ],
   "outputs": [
    {
     "name": "stdout",
     "output_type": "stream",
     "text": [
      "Warning: The Isar is too cold! ❄️\n",
      "Warning: The current is too strong! 🌊\n",
      "Danger! The Isar is too cold and too strong! ⚠️\n",
      "Safe to swim! Enjoy the Isar! 🏊‍♂️\n"
     ]
    }
   ],
   "execution_count": 4
  },
  {
   "cell_type": "markdown",
   "id": "1565a2837c639146",
   "metadata": {},
   "source": [
    "### Function 3: Flu cases\n",
    "Write a function `flu_cases(city_population, infection_rate, days)` that calculates the number of infected people in in several cities in Bavaria over a certain number of days using a simple exponential formula:\n",
    "\n",
    "$$\n",
    "\\text{Infected} = \\text{City population} \\times \\left( 1 - e^{-\\text{Infection rate} \\times \\text{Days}} \\right)\n",
    "$$\n",
    "\n",
    "- The cities and their populations are stored in two lists:\n",
    "    - city_names: Contains the city name (Munich, Nuremberg, Augsburg).\n",
    "    - populations: Contains the respective population figures (1480000, 530000, 300000).\n",
    "- The infection rate indicates how quickly the disease is spreading (e.g. `0.1` for slow spread, `0.3` for fast spread).\n",
    "- The function should round up the calculated number and output it in a formatted string.\n",
    "\n",
    "Note: `math.exp(-rate * days)` calculates the exponential term."
   ]
  },
  {
   "cell_type": "code",
   "id": "8614fa0cca264bc7",
   "metadata": {
    "ExecuteTime": {
     "end_time": "2025-04-03T09:22:39.062607Z",
     "start_time": "2025-04-03T09:22:39.051549Z"
    }
   },
   "source": [
    "import math\n",
    "def flu_cases(city_names,city_population, infection_rate, days):\n",
    "    infected = dict.fromkeys(city_names, \"Unknown\") \n",
    "    print(f\"The infection rate is {infection_rate} at the moment:\")\n",
    "    for i in range(len(city_names)):\n",
    "        infected_value = math.ceil(city_population[i] * (1 - math.exp(-infection_rate * days)))\n",
    "        \n",
    "        infected[city_names[i]] = infected_value\n",
    "        print(f\"The city of {city_names[i]} has {infected_value} infections!\")\n",
    "    \n",
    "    return(infected)"
   ],
   "outputs": [],
   "execution_count": 5
  },
  {
   "cell_type": "code",
   "id": "f88224f7c6e2325a",
   "metadata": {
    "ExecuteTime": {
     "end_time": "2025-04-03T09:22:39.141635Z",
     "start_time": "2025-04-03T09:22:39.133992Z"
    }
   },
   "source": [
    "city_names = [\"Munich\", \"Nuremberg\", \"Augsburg\"]\n",
    "populations = [1480000, 530000, 300000]\n",
    "\n",
    "print(flu_cases(city_names, populations, 0.1, 7))\n",
    "print(flu_cases(city_names, populations, 0.3, 7))"
   ],
   "outputs": [
    {
     "name": "stdout",
     "output_type": "stream",
     "text": [
      "The infection rate is 0.1 at the moment:\n",
      "The city of Munich has 745054 infections!\n",
      "The city of Nuremberg has 266810 infections!\n",
      "The city of Augsburg has 151025 infections!\n",
      "{'Munich': 745054, 'Nuremberg': 266810, 'Augsburg': 151025}\n",
      "The infection rate is 0.3 at the moment:\n",
      "The city of Munich has 1298765 infections!\n",
      "The city of Nuremberg has 465099 infections!\n",
      "The city of Augsburg has 263264 infections!\n",
      "{'Munich': 1298765, 'Nuremberg': 465099, 'Augsburg': 263264}\n"
     ]
    }
   ],
   "execution_count": 6
  }
 ],
 "metadata": {
  "kernelspec": {
   "display_name": "Python 3 (ipykernel)",
   "language": "python",
   "name": "python3"
  },
  "language_info": {
   "codemirror_mode": {
    "name": "ipython",
    "version": 3
   },
   "file_extension": ".py",
   "mimetype": "text/x-python",
   "name": "python",
   "nbconvert_exporter": "python",
   "pygments_lexer": "ipython3",
   "version": "3.10.15"
  }
 },
 "nbformat": 4,
 "nbformat_minor": 5
}
