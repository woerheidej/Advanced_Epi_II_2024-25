{
 "cells": [
  {
   "cell_type": "markdown",
   "id": "367e5477fdf02fda",
   "metadata": {},
   "source": [
    "## Exercise: Pandas & NumPy with Spotify Dataset\n",
    "Use pandas and NumPy to analyze, filter, manipulate, and visualize data from the Spotify 2023 dataset.\n",
    "\n",
    "### Task 1: Data exploration and cleaning\n",
    "1. Load the dataset in pandas.\n",
    "2. Check for missing values and handle them:\n",
    "    - Replace missing values in the \"key\" column with \"Unknown\".\n",
    "    - Fill missing values in \"in_shazam_charts\" with 0.\n",
    "3. Filter the dataset:\n",
    "    - Extract all tracks from 2023 that have been in Spotify Charts at least 50 times.\n",
    "    - Save this subset as \"popular_tracks_2023.csv\"."
   ]
  },
  {
   "cell_type": "code",
   "id": "68ad1af7a355f67",
   "metadata": {
    "ExecuteTime": {
     "end_time": "2025-04-03T10:23:20.934069Z",
     "start_time": "2025-04-03T10:23:20.874584Z"
    }
   },
   "source": [
    "import pandas as pd\n",
    "\n",
    "spotify_df = pd.read_csv(\"spotify-2023.csv\", encoding_errors=\"ignore\")"
   ],
   "outputs": [],
   "execution_count": 4
  },
  {
   "cell_type": "code",
   "id": "2fabbb3bdba2ed78",
   "metadata": {
    "ExecuteTime": {
     "end_time": "2025-04-03T10:23:20.987587Z",
     "start_time": "2025-04-03T10:23:20.958558Z"
    }
   },
   "source": [
    "print(spotify_df.isnull().sum())\n",
    "\n",
    "# 2. Handle missing values\n",
    "spotify_df[\"key\"].fillna(\"Unknown\", inplace=True)\n",
    "spotify_df[\"in_shazam_charts\"].fillna(0, inplace=True)\n",
    "\n",
    "# 3. Filter the dataset: Extract tracks from 2023 that have been in Spotify Charts at least 50 times\n",
    "filtered_df = spotify_df[(spotify_df[\"released_year\"] == 2023) & (spotify_df[\"in_spotify_charts\"] >= 50)]\n",
    "filtered_df.to_csv(\"popular_tracks_2023.csv\")"
   ],
   "outputs": [
    {
     "name": "stdout",
     "output_type": "stream",
     "text": [
      "track_name               2\n",
      "artist(s)_name           0\n",
      "artist_count             0\n",
      "released_year            0\n",
      "released_month           0\n",
      "released_day             0\n",
      "in_spotify_playlists     0\n",
      "in_spotify_charts        0\n",
      "streams                  0\n",
      "in_apple_playlists       0\n",
      "in_apple_charts          0\n",
      "in_deezer_playlists      0\n",
      "in_deezer_charts         0\n",
      "in_shazam_charts        50\n",
      "bpm                      0\n",
      "key                     95\n",
      "mode                     0\n",
      "danceability_%           0\n",
      "valence_%                0\n",
      "energy_%                 0\n",
      "acousticness_%           0\n",
      "instrumentalness_%       0\n",
      "liveness_%               0\n",
      "speechiness_%            0\n",
      "dtype: int64\n"
     ]
    }
   ],
   "execution_count": 5
  },
  {
   "cell_type": "code",
   "id": "98850bd9-5cda-4823-a71c-702d8b8eaa86",
   "metadata": {
    "ExecuteTime": {
     "end_time": "2025-04-03T10:23:21.103906Z",
     "start_time": "2025-04-03T10:23:21.092275Z"
    }
   },
   "source": [
    "spotify_df[\"streams\"] = pd.to_numeric(spotify_df[\"streams\"], errors='coerce')\n",
    "\n",
    "# Check if there are any NaN values now\n",
    "print(spotify_df[\"streams\"].isna().sum())"
   ],
   "outputs": [
    {
     "name": "stdout",
     "output_type": "stream",
     "text": [
      "1\n"
     ]
    }
   ],
   "execution_count": 6
  },
  {
   "cell_type": "markdown",
   "id": "b02fdbe9de45e213",
   "metadata": {},
   "source": [
    "### Task 2: Statistical analysis and aggregation\n",
    "1. Calculate basic statistics:\n",
    "    - Find the average BPM (tempo) by key.\n",
    "    - Find the average energy level for songs with more than 100 million streams.\n",
    "2. Sort the dataset:\n",
    "    - Find the top 10 most streamed songs.\n",
    "    - Find the 5 least danceable songs.\n",
    "3. Group the dataset:\n",
    "    - Count how many tracks belong to each mode (Major/Minor)."
   ]
  },
  {
   "cell_type": "code",
   "id": "9eb4eb6e-45ee-4316-928a-b45a24b2ed67",
   "metadata": {
    "ExecuteTime": {
     "end_time": "2025-04-03T10:23:21.301526Z",
     "start_time": "2025-04-03T10:23:21.260655Z"
    }
   },
   "source": [
    "# 1. Find the average BPM by key\n",
    "avg_bpm_by_key = spotify_df.groupby(\"key\")[\"bpm\"].mean()\n",
    "print(\"Average BPM by Key:\\n\", avg_bpm_by_key)\n",
    "\n",
    "# One row has weird values, exclude it for now\n",
    "spotify_df[\"streams\"] = pd.to_numeric(spotify_df[\"streams\"], errors='coerce')\n",
    "\n",
    "# Find the average energy level for songs with more than 100 million streams\n",
    "avg_energy = spotify_df[spotify_df[\"streams\"] > 100000000][\"energy_%\"].mean()\n",
    "print(f\"Average Energy Level for Songs with More than 100M Streams: {round(avg_energy, 2)}\")"
   ],
   "outputs": [
    {
     "name": "stdout",
     "output_type": "stream",
     "text": [
      "Average BPM by Key:\n",
      " key\n",
      "A          127.840000\n",
      "A#         119.719298\n",
      "B          121.543210\n",
      "C#         122.341667\n",
      "D          123.802469\n",
      "D#         123.393939\n",
      "E          121.935484\n",
      "F          120.235955\n",
      "F#         125.479452\n",
      "G          122.208333\n",
      "G#         123.021978\n",
      "Unknown    119.947368\n",
      "Name: bpm, dtype: float64\n",
      "Average Energy Level for Songs with More than 100M Streams: 64.11\n"
     ]
    }
   ],
   "execution_count": 7
  },
  {
   "cell_type": "code",
   "id": "504e96ad3e1ad494",
   "metadata": {
    "ExecuteTime": {
     "end_time": "2025-04-03T10:23:21.527925Z",
     "start_time": "2025-04-03T10:23:21.493197Z"
    }
   },
   "source": [
    "# 2. Find the top 10 most streamed songs\n",
    "top_10_songs = spotify_df.nlargest(10, \"streams\")[[\"track_name\", \"artist(s)_name\", \"streams\"]].reset_index(drop = True)\n",
    "top_10_songs.index = top_10_songs.index + 1 \n",
    "print(\"Top 10 Most Streamed Songs:\\n\", top_10_songs)\n",
    "\n",
    "# Find the 5 least danceable songs\n",
    "least_danceable_songs = spotify_df.nsmallest(5, \"danceability_%\")[[\"track_name\", \"artist(s)_name\", \"danceability_%\"]].reset_index(drop = True)\n",
    "least_danceable_songs.index = least_danceable_songs.index + 1\n",
    "print(\"5 Least Danceable Songs:\\n\", least_danceable_songs)"
   ],
   "outputs": [
    {
     "name": "stdout",
     "output_type": "stream",
     "text": [
      "Top 10 Most Streamed Songs:\n",
      "                                        track_name  \\\n",
      "1                                 Blinding Lights   \n",
      "2                                    Shape of You   \n",
      "3                               Someone You Loved   \n",
      "4                                    Dance Monkey   \n",
      "5   Sunflower - Spider-Man: Into the Spider-Verse   \n",
      "6                                       One Dance   \n",
      "7                       STAY (with Justin Bieber)   \n",
      "8                                        Believer   \n",
      "9                                          Closer   \n",
      "10                                        Starboy   \n",
      "\n",
      "                  artist(s)_name       streams  \n",
      "1                     The Weeknd  3.703895e+09  \n",
      "2                     Ed Sheeran  3.562544e+09  \n",
      "3                  Lewis Capaldi  2.887242e+09  \n",
      "4                    Tones and I  2.864792e+09  \n",
      "5          Post Malone, Swae Lee  2.808097e+09  \n",
      "6            Drake, WizKid, Kyla  2.713922e+09  \n",
      "7   Justin Bieber, The Kid Laroi  2.665344e+09  \n",
      "8                Imagine Dragons  2.594040e+09  \n",
      "9       The Chainsmokers, Halsey  2.591224e+09  \n",
      "10         The Weeknd, Daft Punk  2.565530e+09  \n",
      "5 Least Danceable Songs:\n",
      "                                           track_name  \\\n",
      "1                                    White Christmas   \n",
      "2           It's the Most Wonderful Time of the Year   \n",
      "3  Lift Me Up - From Black Panther: Wakanda Forev...   \n",
      "4                                            Dawn FM   \n",
      "5                                        Starry Eyes   \n",
      "\n",
      "                                      artist(s)_name  danceability_%  \n",
      "1  Bing Crosby, John Scott Trotter & His Orchestr...              23  \n",
      "2                                      Andy Williams              24  \n",
      "3                                            Rihanna              25  \n",
      "4                                         The Weeknd              27  \n",
      "5                                         The Weeknd              28  \n"
     ]
    }
   ],
   "execution_count": 8
  },
  {
   "cell_type": "code",
   "id": "8ddb6682-dd9a-4d48-b8d9-e7a79d4c89e2",
   "metadata": {
    "ExecuteTime": {
     "end_time": "2025-04-03T10:23:21.652686Z",
     "start_time": "2025-04-03T10:23:21.639448Z"
    }
   },
   "source": [
    "# 3. Count how many tracks belong to each mode (Major/Minor)\n",
    "mode_counts = spotify_df[\"mode\"].value_counts()\n",
    "mode_counts.columns = [\"Mode\", \"Track Count\"]\n",
    "print(\"Number of Tracks by Mode:\\n\", mode_counts)"
   ],
   "outputs": [
    {
     "name": "stdout",
     "output_type": "stream",
     "text": [
      "Number of Tracks by Mode:\n",
      " mode\n",
      "Major    550\n",
      "Minor    403\n",
      "Name: count, dtype: int64\n"
     ]
    }
   ],
   "execution_count": 9
  },
  {
   "cell_type": "markdown",
   "id": "37a52ffc453f5158",
   "metadata": {},
   "source": [
    "### Task 3: Feature engineering\n",
    "1. Create a new variable \"track_popularity\" using the following logic:\n",
    "    - \"Super Hit\" if streams > 500M.\n",
    "    - \"Hit\" if streams between 100M and 500M.\n",
    "    - \"Moderate\" if streams between 50M and 100M.\n",
    "    - \"Less Popular\" otherwise.\n",
    "2. Save the modified dataset with the new column as \"track_popularity_data.csv\"."
   ]
  },
  {
   "cell_type": "code",
   "id": "2e3a205a7d53d4f0",
   "metadata": {
    "ExecuteTime": {
     "end_time": "2025-04-03T10:23:21.687327Z",
     "start_time": "2025-04-03T10:23:21.678992Z"
    }
   },
   "source": [
    "def classify_popularity(streams):\n",
    "    if streams > 500000000:\n",
    "        return \"Super Hit\"\n",
    "    elif streams >= 100000000 and streams <= 500000000:\n",
    "        return \"Hit\"\n",
    "    elif streams >= 50000000 and streams < 100000000:\n",
    "        return \"Moderate\"\n",
    "    else:\n",
    "        return \"Less Popular\""
   ],
   "outputs": [],
   "execution_count": 10
  },
  {
   "cell_type": "code",
   "id": "b9ec488d-be34-4898-be11-9f267b5ac734",
   "metadata": {
    "ExecuteTime": {
     "end_time": "2025-04-03T10:23:21.800520Z",
     "start_time": "2025-04-03T10:23:21.760384Z"
    }
   },
   "source": [
    "spotify_df[\"track_popularity\"] = spotify_df[\"streams\"].apply(classify_popularity)\n",
    "spotify_df.to_csv(\"track_popularity_data.csv\")"
   ],
   "outputs": [],
   "execution_count": 11
  },
  {
   "cell_type": "markdown",
   "id": "e95c6711ec0303f3",
   "metadata": {},
   "source": [
    "### Task 4: Unique Task\n",
    "Each student must create their own unique variable in the dataset. Choose one approach:\n",
    "1. Assign a playlist ranking (playlist_rank):\n",
    "    - Generate a random rank between 1 and 100 for each track using np.random.randint().\n",
    "2. Create an emotional category (mood_category):\n",
    "    - Categorize songs based on valence (happiness) and energy.\n",
    "      - \"Energetic & Happy\" if valence > 60 and energy > 70.\n",
    "      - \"Calm & Happy\" if valence > 60 and energy <= 70.\n",
    "      - \"Sad\" if valence < 40.\n",
    "      - \"Neutral\" otherwise.\n",
    "3. Define a personal popularity score (custom_popularity_score):\n",
    "    - Use a custom formula (e.g., (streams / bpm) * danceability_%)."
   ]
  },
  {
   "cell_type": "code",
   "id": "7bbcb5d288b733c0",
   "metadata": {
    "ExecuteTime": {
     "end_time": "2025-04-03T10:23:21.923862Z",
     "start_time": "2025-04-03T10:23:21.908814Z"
    }
   },
   "source": [
    "import numpy as np\n",
    "        \n",
    "# 1. Assign playlist ranking:\n",
    "spotify_df[\"playlist_rank\"] = np.random.randint(1, 101, size=len(spotify_df))"
   ],
   "outputs": [],
   "execution_count": 12
  },
  {
   "cell_type": "code",
   "id": "b7003b76-1ee9-4bfc-9dc2-52fdebe2af27",
   "metadata": {
    "ExecuteTime": {
     "end_time": "2025-04-03T10:23:22.014173Z",
     "start_time": "2025-04-03T10:23:21.976540Z"
    }
   },
   "source": [
    "# helper function:\n",
    "def classify_mood(valence, energy):\n",
    "    if valence > 60 and energy > 70:\n",
    "        return \"Energetic & Happy\"\n",
    "    elif valence > 60 and energy <= 70:\n",
    "        return \"Calm & Happy\"\n",
    "    elif valence < 40:\n",
    "        return \"Sad\"\n",
    "    else:\n",
    "        return \"Neutral\"\n",
    "        \n",
    "# 2. Create an emotional category:\n",
    "spotify_df[\"mood_category\"] = spotify_df.apply(lambda x: classify_mood(x[\"valence_%\"], x[\"energy_%\"]), axis=1)"
   ],
   "outputs": [],
   "execution_count": 13
  },
  {
   "cell_type": "code",
   "id": "b5b4cb2a-7c7d-4a0b-80bd-3fa0fb41fe6c",
   "metadata": {
    "ExecuteTime": {
     "end_time": "2025-04-03T10:23:22.069410Z",
     "start_time": "2025-04-03T10:23:22.035310Z"
    }
   },
   "source": [
    "# Normalize streams to 0 (popular) to 1 (not so popular)\n",
    "spotify_df[\"normalized_streams\"] = 1 - (spotify_df[\"streams\"] - spotify_df[\"streams\"].min()) / (spotify_df[\"streams\"].max() - spotify_df[\"streams\"].min())\n",
    "\n",
    "spotify_df[\"custom_popularity_score\"] = (spotify_df[\"normalized_streams\"]*3) + (10/spotify_df[\"valence_%\"]) + spotify_df[\"speechiness_%\"]/20 + spotify_df[\"acousticness_%\"]/50\n",
    "\n",
    "my_top_10_songs = spotify_df.sort_values(by=\"custom_popularity_score\", ascending=False).head(10)\n",
    "\n",
    "print(my_top_10_songs[[\"track_name\", \"artist(s)_name\", \"streams\", \"valence_%\", \"custom_popularity_score\"]])\n",
    "\n",
    "# Well, at least got some kendrick songs"
   ],
   "outputs": [
    {
     "name": "stdout",
     "output_type": "stream",
     "text": [
      "                                            track_name  \\\n",
      "247                                          Cart��o B   \n",
      "825                                            Flowers   \n",
      "259                          MIENTRAS ME CURO DEL CORA   \n",
      "809  Mother I Sober (feat. Beth Gibbons of Portishead)   \n",
      "341                                             LET GO   \n",
      "802                                     Auntie Diaries   \n",
      "783                                 Worldwide Steppers   \n",
      "780                                             Savior   \n",
      "848                         Die Young (feat. 347aidan)   \n",
      "777                                             Andrea   \n",
      "\n",
      "                         artist(s)_name      streams  valence_%  \\\n",
      "247              MC Caverinha, KayBlack   71573339.0         55   \n",
      "825                Lauren Spencer Smith  184826429.0         31   \n",
      "259                             Karol G  206399629.0         57   \n",
      "809        Kendrick Lamar, Beth Gibbons   33381454.0         50   \n",
      "341                         Central Cee  298063749.0         51   \n",
      "802                      Kendrick Lamar   37778188.0         60   \n",
      "783                      Kendrick Lamar   61739839.0         56   \n",
      "780  Kendrick Lamar, Sam Dew, Baby Keem   86176890.0         66   \n",
      "848             Sleepy hallow, 347aidan  160845341.0         68   \n",
      "777               Buscabulla, Bad Bunny  344055883.0         45   \n",
      "\n",
      "     custom_popularity_score  \n",
      "247                 6.843849  \n",
      "825                 6.802881  \n",
      "259                 6.678266  \n",
      "809                 6.662965  \n",
      "341                 6.574661  \n",
      "802                 6.556070  \n",
      "783                 6.448567  \n",
      "780                 6.441718  \n",
      "848                 6.376783  \n",
      "777                 6.363553  \n"
     ]
    }
   ],
   "execution_count": 14
  }
 ],
 "metadata": {
  "kernelspec": {
   "display_name": "Python 3 (ipykernel)",
   "language": "python",
   "name": "python3"
  },
  "language_info": {
   "codemirror_mode": {
    "name": "ipython",
    "version": 3
   },
   "file_extension": ".py",
   "mimetype": "text/x-python",
   "name": "python",
   "nbconvert_exporter": "python",
   "pygments_lexer": "ipython3",
   "version": "3.10.15"
  }
 },
 "nbformat": 4,
 "nbformat_minor": 5
}
